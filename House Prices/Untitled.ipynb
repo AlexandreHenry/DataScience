{
 "cells": [
  {
   "cell_type": "code",
   "execution_count": 80,
   "metadata": {
    "collapsed": true
   },
   "outputs": [],
   "source": [
    "import pandas as pd\n",
    "import numpy as np\n",
    "import matplotlib as plt\n",
    "from sklearn import linear_model\n",
    "from sklearn.metrics import mean_squared_error\n",
    "from sklearn.model_selection import train_test_split\n",
    "import math\n",
    "from sklearn.ensemble import RandomForestRegressor"
   ]
  },
  {
   "cell_type": "code",
   "execution_count": 66,
   "metadata": {},
   "outputs": [],
   "source": [
    "y_target = \"SalePrice\"\n",
    "categorial_variables = [\"MSSubClass\", \"MSZoning\", \"GarageType\", \"SaleType\", \"SaleCondition\"]\n",
    "continuous_variables = [\"LotArea\", \"OverallQual\", \"OverallCond\", \"YearBuilt\", \"TotalBsmtSF\", \"1stFlrSF\", \"2ndFlrSF\", \n",
    "                        \"GarageArea\", \"PoolArea\", \"MoSold\", \"YrSold\", \"MiscVal\", \"LowQualFinSF\", \"GrLivArea\"]"
   ]
  },
  {
   "cell_type": "code",
   "execution_count": 56,
   "metadata": {
    "collapsed": true
   },
   "outputs": [],
   "source": [
    "df_train = pd.read_csv(\"train.csv\")\n",
    "df_test = pd.read_csv(\"test.csv\")"
   ]
  },
  {
   "cell_type": "code",
   "execution_count": 79,
   "metadata": {},
   "outputs": [
    {
     "data": {
      "text/html": [
       "<div>\n",
       "<style>\n",
       "    .dataframe thead tr:only-child th {\n",
       "        text-align: right;\n",
       "    }\n",
       "\n",
       "    .dataframe thead th {\n",
       "        text-align: left;\n",
       "    }\n",
       "\n",
       "    .dataframe tbody tr th {\n",
       "        vertical-align: top;\n",
       "    }\n",
       "</style>\n",
       "<table border=\"1\" class=\"dataframe\">\n",
       "  <thead>\n",
       "    <tr style=\"text-align: right;\">\n",
       "      <th></th>\n",
       "      <th>Id</th>\n",
       "      <th>MSSubClass</th>\n",
       "      <th>MSZoning</th>\n",
       "      <th>LotFrontage</th>\n",
       "      <th>LotArea</th>\n",
       "      <th>Street</th>\n",
       "      <th>Alley</th>\n",
       "      <th>LotShape</th>\n",
       "      <th>LandContour</th>\n",
       "      <th>Utilities</th>\n",
       "      <th>...</th>\n",
       "      <th>PoolArea</th>\n",
       "      <th>PoolQC</th>\n",
       "      <th>Fence</th>\n",
       "      <th>MiscFeature</th>\n",
       "      <th>MiscVal</th>\n",
       "      <th>MoSold</th>\n",
       "      <th>YrSold</th>\n",
       "      <th>SaleType</th>\n",
       "      <th>SaleCondition</th>\n",
       "      <th>SalePrice</th>\n",
       "    </tr>\n",
       "  </thead>\n",
       "  <tbody>\n",
       "    <tr>\n",
       "      <th>0</th>\n",
       "      <td>1461</td>\n",
       "      <td>20</td>\n",
       "      <td>RH</td>\n",
       "      <td>80.0</td>\n",
       "      <td>11622</td>\n",
       "      <td>Pave</td>\n",
       "      <td>NaN</td>\n",
       "      <td>Reg</td>\n",
       "      <td>Lvl</td>\n",
       "      <td>AllPub</td>\n",
       "      <td>...</td>\n",
       "      <td>0</td>\n",
       "      <td>NaN</td>\n",
       "      <td>MnPrv</td>\n",
       "      <td>NaN</td>\n",
       "      <td>0</td>\n",
       "      <td>6</td>\n",
       "      <td>2010</td>\n",
       "      <td>WD</td>\n",
       "      <td>Normal</td>\n",
       "      <td>119354.591839</td>\n",
       "    </tr>\n",
       "    <tr>\n",
       "      <th>1</th>\n",
       "      <td>1462</td>\n",
       "      <td>20</td>\n",
       "      <td>RL</td>\n",
       "      <td>81.0</td>\n",
       "      <td>14267</td>\n",
       "      <td>Pave</td>\n",
       "      <td>NaN</td>\n",
       "      <td>IR1</td>\n",
       "      <td>Lvl</td>\n",
       "      <td>AllPub</td>\n",
       "      <td>...</td>\n",
       "      <td>0</td>\n",
       "      <td>NaN</td>\n",
       "      <td>NaN</td>\n",
       "      <td>Gar2</td>\n",
       "      <td>12500</td>\n",
       "      <td>6</td>\n",
       "      <td>2010</td>\n",
       "      <td>WD</td>\n",
       "      <td>Normal</td>\n",
       "      <td>176499.239487</td>\n",
       "    </tr>\n",
       "    <tr>\n",
       "      <th>2</th>\n",
       "      <td>1463</td>\n",
       "      <td>60</td>\n",
       "      <td>RL</td>\n",
       "      <td>74.0</td>\n",
       "      <td>13830</td>\n",
       "      <td>Pave</td>\n",
       "      <td>NaN</td>\n",
       "      <td>IR1</td>\n",
       "      <td>Lvl</td>\n",
       "      <td>AllPub</td>\n",
       "      <td>...</td>\n",
       "      <td>0</td>\n",
       "      <td>NaN</td>\n",
       "      <td>MnPrv</td>\n",
       "      <td>NaN</td>\n",
       "      <td>0</td>\n",
       "      <td>3</td>\n",
       "      <td>2010</td>\n",
       "      <td>WD</td>\n",
       "      <td>Normal</td>\n",
       "      <td>177149.617021</td>\n",
       "    </tr>\n",
       "    <tr>\n",
       "      <th>3</th>\n",
       "      <td>1464</td>\n",
       "      <td>60</td>\n",
       "      <td>RL</td>\n",
       "      <td>78.0</td>\n",
       "      <td>9978</td>\n",
       "      <td>Pave</td>\n",
       "      <td>NaN</td>\n",
       "      <td>IR1</td>\n",
       "      <td>Lvl</td>\n",
       "      <td>AllPub</td>\n",
       "      <td>...</td>\n",
       "      <td>0</td>\n",
       "      <td>NaN</td>\n",
       "      <td>NaN</td>\n",
       "      <td>NaN</td>\n",
       "      <td>0</td>\n",
       "      <td>6</td>\n",
       "      <td>2010</td>\n",
       "      <td>WD</td>\n",
       "      <td>Normal</td>\n",
       "      <td>173966.742001</td>\n",
       "    </tr>\n",
       "    <tr>\n",
       "      <th>4</th>\n",
       "      <td>1465</td>\n",
       "      <td>120</td>\n",
       "      <td>RL</td>\n",
       "      <td>43.0</td>\n",
       "      <td>5005</td>\n",
       "      <td>Pave</td>\n",
       "      <td>NaN</td>\n",
       "      <td>IR1</td>\n",
       "      <td>HLS</td>\n",
       "      <td>AllPub</td>\n",
       "      <td>...</td>\n",
       "      <td>0</td>\n",
       "      <td>NaN</td>\n",
       "      <td>NaN</td>\n",
       "      <td>NaN</td>\n",
       "      <td>0</td>\n",
       "      <td>1</td>\n",
       "      <td>2010</td>\n",
       "      <td>WD</td>\n",
       "      <td>Normal</td>\n",
       "      <td>167274.619787</td>\n",
       "    </tr>\n",
       "  </tbody>\n",
       "</table>\n",
       "<p>5 rows × 81 columns</p>\n",
       "</div>"
      ],
      "text/plain": [
       "     Id  MSSubClass MSZoning  LotFrontage  LotArea Street Alley LotShape  \\\n",
       "0  1461          20       RH         80.0    11622   Pave   NaN      Reg   \n",
       "1  1462          20       RL         81.0    14267   Pave   NaN      IR1   \n",
       "2  1463          60       RL         74.0    13830   Pave   NaN      IR1   \n",
       "3  1464          60       RL         78.0     9978   Pave   NaN      IR1   \n",
       "4  1465         120       RL         43.0     5005   Pave   NaN      IR1   \n",
       "\n",
       "  LandContour Utilities      ...       PoolArea PoolQC  Fence MiscFeature  \\\n",
       "0         Lvl    AllPub      ...              0    NaN  MnPrv         NaN   \n",
       "1         Lvl    AllPub      ...              0    NaN    NaN        Gar2   \n",
       "2         Lvl    AllPub      ...              0    NaN  MnPrv         NaN   \n",
       "3         Lvl    AllPub      ...              0    NaN    NaN         NaN   \n",
       "4         HLS    AllPub      ...              0    NaN    NaN         NaN   \n",
       "\n",
       "  MiscVal MoSold YrSold  SaleType  SaleCondition      SalePrice  \n",
       "0       0      6   2010        WD         Normal  119354.591839  \n",
       "1   12500      6   2010        WD         Normal  176499.239487  \n",
       "2       0      3   2010        WD         Normal  177149.617021  \n",
       "3       0      6   2010        WD         Normal  173966.742001  \n",
       "4       0      1   2010        WD         Normal  167274.619787  \n",
       "\n",
       "[5 rows x 81 columns]"
      ]
     },
     "execution_count": 79,
     "metadata": {},
     "output_type": "execute_result"
    }
   ],
   "source": [
    "df_test.head()"
   ]
  },
  {
   "cell_type": "code",
   "execution_count": 19,
   "metadata": {},
   "outputs": [
    {
     "data": {
      "text/html": [
       "<div>\n",
       "<style>\n",
       "    .dataframe thead tr:only-child th {\n",
       "        text-align: right;\n",
       "    }\n",
       "\n",
       "    .dataframe thead th {\n",
       "        text-align: left;\n",
       "    }\n",
       "\n",
       "    .dataframe tbody tr th {\n",
       "        vertical-align: top;\n",
       "    }\n",
       "</style>\n",
       "<table border=\"1\" class=\"dataframe\">\n",
       "  <thead>\n",
       "    <tr style=\"text-align: right;\">\n",
       "      <th></th>\n",
       "      <th>MiscVal</th>\n",
       "    </tr>\n",
       "  </thead>\n",
       "  <tbody>\n",
       "    <tr>\n",
       "      <th>count</th>\n",
       "      <td>1460.000000</td>\n",
       "    </tr>\n",
       "    <tr>\n",
       "      <th>mean</th>\n",
       "      <td>43.489041</td>\n",
       "    </tr>\n",
       "    <tr>\n",
       "      <th>std</th>\n",
       "      <td>496.123024</td>\n",
       "    </tr>\n",
       "    <tr>\n",
       "      <th>min</th>\n",
       "      <td>0.000000</td>\n",
       "    </tr>\n",
       "    <tr>\n",
       "      <th>25%</th>\n",
       "      <td>0.000000</td>\n",
       "    </tr>\n",
       "    <tr>\n",
       "      <th>50%</th>\n",
       "      <td>0.000000</td>\n",
       "    </tr>\n",
       "    <tr>\n",
       "      <th>75%</th>\n",
       "      <td>0.000000</td>\n",
       "    </tr>\n",
       "    <tr>\n",
       "      <th>max</th>\n",
       "      <td>15500.000000</td>\n",
       "    </tr>\n",
       "  </tbody>\n",
       "</table>\n",
       "</div>"
      ],
      "text/plain": [
       "            MiscVal\n",
       "count   1460.000000\n",
       "mean      43.489041\n",
       "std      496.123024\n",
       "min        0.000000\n",
       "25%        0.000000\n",
       "50%        0.000000\n",
       "75%        0.000000\n",
       "max    15500.000000"
      ]
     },
     "execution_count": 19,
     "metadata": {},
     "output_type": "execute_result"
    }
   ],
   "source": [
    "df_train[[\"MiscVal\"]].describe()"
   ]
  },
  {
   "cell_type": "code",
   "execution_count": 41,
   "metadata": {},
   "outputs": [
    {
     "name": "stdout",
     "output_type": "stream",
     "text": [
      "[[   0.30770975  130.09412326   75.53864496]]\n"
     ]
    }
   ],
   "source": [
    "# 1st submission LR\n",
    "\n",
    "X = df_train[[\"LotArea\", \"1stFlrSF\", \"2ndFlrSF\"]]\n",
    "y = df_train[[y_target]]\n",
    "# X_train, X_test, y_train, y_test = train_test_split(X, y, test_size=0.33, random_state=42)\n",
    "X_train,y_train = X, y\n",
    "reg = linear_model.LinearRegression()\n",
    "reg.fit(X_train, y_train)\n",
    "print(reg.coef_)\n",
    "y_pred = reg.predict(df_test[[\"LotArea\", \"1stFlrSF\", \"2ndFlrSF\"]])"
   ]
  },
  {
   "cell_type": "code",
   "execution_count": 49,
   "metadata": {},
   "outputs": [
    {
     "data": {
      "text/plain": [
       "0.062144966096115598"
      ]
     },
     "execution_count": 49,
     "metadata": {},
     "output_type": "execute_result"
    }
   ],
   "source": [
    "mean_squared_error(np.log(y_test), np.log(y_pred))"
   ]
  },
  {
   "cell_type": "code",
   "execution_count": 109,
   "metadata": {},
   "outputs": [
    {
     "name": "stdout",
     "output_type": "stream",
     "text": [
      "<class 'pandas.core.frame.DataFrame'>\n",
      "Int64Index: 2919 entries, 0 to 1458\n",
      "Data columns (total 19 columns):\n",
      "MSSubClass       2919 non-null int64\n",
      "MSZoning         2915 non-null object\n",
      "GarageType       2762 non-null object\n",
      "SaleType         2918 non-null object\n",
      "SaleCondition    2919 non-null object\n",
      "LotArea          2919 non-null int64\n",
      "OverallQual      2919 non-null int64\n",
      "OverallCond      2919 non-null int64\n",
      "YearBuilt        2919 non-null int64\n",
      "TotalBsmtSF      2918 non-null float64\n",
      "1stFlrSF         2919 non-null int64\n",
      "2ndFlrSF         2919 non-null int64\n",
      "GarageArea       2918 non-null float64\n",
      "PoolArea         2919 non-null int64\n",
      "MoSold           2919 non-null int64\n",
      "YrSold           2919 non-null int64\n",
      "MiscVal          2919 non-null int64\n",
      "LowQualFinSF     2919 non-null int64\n",
      "GrLivArea        2919 non-null int64\n",
      "dtypes: float64(2), int64(13), object(4)\n",
      "memory usage: 456.1+ KB\n"
     ]
    }
   ],
   "source": [
    "# 2nd submission LR\n",
    "df_train_2 = df_train[categorial_variables + continuous_variables]\n",
    "df_test_2 = df_test[categorial_variables + continuous_variables]\n",
    "df_2 = pd.concat([df_train_2,df_test_2])\n",
    "df_2.info()"
   ]
  },
  {
   "cell_type": "code",
   "execution_count": 110,
   "metadata": {},
   "outputs": [
    {
     "name": "stdout",
     "output_type": "stream",
     "text": [
      "<class 'pandas.core.frame.DataFrame'>\n",
      "Int64Index: 2919 entries, 0 to 1458\n",
      "Data columns (total 56 columns):\n",
      "LotArea                  2919 non-null int64\n",
      "OverallQual              2919 non-null int64\n",
      "OverallCond              2919 non-null int64\n",
      "YearBuilt                2919 non-null int64\n",
      "TotalBsmtSF              2918 non-null float64\n",
      "1stFlrSF                 2919 non-null int64\n",
      "2ndFlrSF                 2919 non-null int64\n",
      "GarageArea               2918 non-null float64\n",
      "PoolArea                 2919 non-null int64\n",
      "MoSold                   2919 non-null int64\n",
      "YrSold                   2919 non-null int64\n",
      "MiscVal                  2919 non-null int64\n",
      "LowQualFinSF             2919 non-null int64\n",
      "GrLivArea                2919 non-null int64\n",
      "MSSubClass_20            2919 non-null uint8\n",
      "MSSubClass_30            2919 non-null uint8\n",
      "MSSubClass_40            2919 non-null uint8\n",
      "MSSubClass_45            2919 non-null uint8\n",
      "MSSubClass_50            2919 non-null uint8\n",
      "MSSubClass_60            2919 non-null uint8\n",
      "MSSubClass_70            2919 non-null uint8\n",
      "MSSubClass_75            2919 non-null uint8\n",
      "MSSubClass_80            2919 non-null uint8\n",
      "MSSubClass_85            2919 non-null uint8\n",
      "MSSubClass_90            2919 non-null uint8\n",
      "MSSubClass_120           2919 non-null uint8\n",
      "MSSubClass_150           2919 non-null uint8\n",
      "MSSubClass_160           2919 non-null uint8\n",
      "MSSubClass_180           2919 non-null uint8\n",
      "MSSubClass_190           2919 non-null uint8\n",
      "MSZoning_C (all)         2919 non-null uint8\n",
      "MSZoning_FV              2919 non-null uint8\n",
      "MSZoning_RH              2919 non-null uint8\n",
      "MSZoning_RL              2919 non-null uint8\n",
      "MSZoning_RM              2919 non-null uint8\n",
      "GarageType_2Types        2919 non-null uint8\n",
      "GarageType_Attchd        2919 non-null uint8\n",
      "GarageType_Basment       2919 non-null uint8\n",
      "GarageType_BuiltIn       2919 non-null uint8\n",
      "GarageType_CarPort       2919 non-null uint8\n",
      "GarageType_Detchd        2919 non-null uint8\n",
      "SaleType_COD             2919 non-null uint8\n",
      "SaleType_CWD             2919 non-null uint8\n",
      "SaleType_Con             2919 non-null uint8\n",
      "SaleType_ConLD           2919 non-null uint8\n",
      "SaleType_ConLI           2919 non-null uint8\n",
      "SaleType_ConLw           2919 non-null uint8\n",
      "SaleType_New             2919 non-null uint8\n",
      "SaleType_Oth             2919 non-null uint8\n",
      "SaleType_WD              2919 non-null uint8\n",
      "SaleCondition_Abnorml    2919 non-null uint8\n",
      "SaleCondition_AdjLand    2919 non-null uint8\n",
      "SaleCondition_Alloca     2919 non-null uint8\n",
      "SaleCondition_Family     2919 non-null uint8\n",
      "SaleCondition_Normal     2919 non-null uint8\n",
      "SaleCondition_Partial    2919 non-null uint8\n",
      "dtypes: float64(2), int64(12), uint8(42)\n",
      "memory usage: 461.8 KB\n"
     ]
    }
   ],
   "source": [
    "df_2 = pd.get_dummies(df_2, columns=categorial_variables)\n",
    "df_2.info()"
   ]
  },
  {
   "cell_type": "code",
   "execution_count": 117,
   "metadata": {},
   "outputs": [
    {
     "name": "stderr",
     "output_type": "stream",
     "text": [
      "C:\\ProgramData\\Anaconda3\\lib\\site-packages\\pandas\\core\\generic.py:3660: SettingWithCopyWarning: \n",
      "A value is trying to be set on a copy of a slice from a DataFrame\n",
      "\n",
      "See the caveats in the documentation: http://pandas.pydata.org/pandas-docs/stable/indexing.html#indexing-view-versus-copy\n",
      "  self._update_inplace(new_data)\n"
     ]
    },
    {
     "name": "stdout",
     "output_type": "stream",
     "text": [
      "<class 'pandas.core.frame.DataFrame'>\n",
      "Int64Index: 1459 entries, 0 to 1458\n",
      "Data columns (total 56 columns):\n",
      "LotArea                  1459 non-null int64\n",
      "OverallQual              1459 non-null int64\n",
      "OverallCond              1459 non-null int64\n",
      "YearBuilt                1459 non-null int64\n",
      "TotalBsmtSF              1459 non-null float64\n",
      "1stFlrSF                 1459 non-null int64\n",
      "2ndFlrSF                 1459 non-null int64\n",
      "GarageArea               1459 non-null float64\n",
      "PoolArea                 1459 non-null int64\n",
      "MoSold                   1459 non-null int64\n",
      "YrSold                   1459 non-null int64\n",
      "MiscVal                  1459 non-null int64\n",
      "LowQualFinSF             1459 non-null int64\n",
      "GrLivArea                1459 non-null int64\n",
      "MSSubClass_20            1459 non-null uint8\n",
      "MSSubClass_30            1459 non-null uint8\n",
      "MSSubClass_40            1459 non-null uint8\n",
      "MSSubClass_45            1459 non-null uint8\n",
      "MSSubClass_50            1459 non-null uint8\n",
      "MSSubClass_60            1459 non-null uint8\n",
      "MSSubClass_70            1459 non-null uint8\n",
      "MSSubClass_75            1459 non-null uint8\n",
      "MSSubClass_80            1459 non-null uint8\n",
      "MSSubClass_85            1459 non-null uint8\n",
      "MSSubClass_90            1459 non-null uint8\n",
      "MSSubClass_120           1459 non-null uint8\n",
      "MSSubClass_150           1459 non-null uint8\n",
      "MSSubClass_160           1459 non-null uint8\n",
      "MSSubClass_180           1459 non-null uint8\n",
      "MSSubClass_190           1459 non-null uint8\n",
      "MSZoning_C (all)         1459 non-null uint8\n",
      "MSZoning_FV              1459 non-null uint8\n",
      "MSZoning_RH              1459 non-null uint8\n",
      "MSZoning_RL              1459 non-null uint8\n",
      "MSZoning_RM              1459 non-null uint8\n",
      "GarageType_2Types        1459 non-null uint8\n",
      "GarageType_Attchd        1459 non-null uint8\n",
      "GarageType_Basment       1459 non-null uint8\n",
      "GarageType_BuiltIn       1459 non-null uint8\n",
      "GarageType_CarPort       1459 non-null uint8\n",
      "GarageType_Detchd        1459 non-null uint8\n",
      "SaleType_COD             1459 non-null uint8\n",
      "SaleType_CWD             1459 non-null uint8\n",
      "SaleType_Con             1459 non-null uint8\n",
      "SaleType_ConLD           1459 non-null uint8\n",
      "SaleType_ConLI           1459 non-null uint8\n",
      "SaleType_ConLw           1459 non-null uint8\n",
      "SaleType_New             1459 non-null uint8\n",
      "SaleType_Oth             1459 non-null uint8\n",
      "SaleType_WD              1459 non-null uint8\n",
      "SaleCondition_Abnorml    1459 non-null uint8\n",
      "SaleCondition_AdjLand    1459 non-null uint8\n",
      "SaleCondition_Alloca     1459 non-null uint8\n",
      "SaleCondition_Family     1459 non-null uint8\n",
      "SaleCondition_Normal     1459 non-null uint8\n",
      "SaleCondition_Partial    1459 non-null uint8\n",
      "dtypes: float64(2), int64(12), uint8(42)\n",
      "memory usage: 230.8 KB\n"
     ]
    }
   ],
   "source": [
    "df_train_2 = df_2.iloc[:1460,:]\n",
    "df_test_2 = df_2.iloc[1460:,:]\n",
    "df_test_2.fillna(df_test_2.mean(), inplace=True)\n",
    "df_test_2.info()"
   ]
  },
  {
   "cell_type": "code",
   "execution_count": 118,
   "metadata": {},
   "outputs": [
    {
     "name": "stderr",
     "output_type": "stream",
     "text": [
      "C:\\ProgramData\\Anaconda3\\lib\\site-packages\\ipykernel_launcher.py:6: DataConversionWarning: A column-vector y was passed when a 1d array was expected. Please change the shape of y to (n_samples,), for example using ravel().\n",
      "  \n"
     ]
    },
    {
     "data": {
      "text/plain": [
       "RandomForestRegressor(bootstrap=True, criterion='mse', max_depth=9,\n",
       "           max_features=0.6, max_leaf_nodes=None,\n",
       "           min_impurity_decrease=0.0, min_impurity_split=None,\n",
       "           min_samples_leaf=1, min_samples_split=2,\n",
       "           min_weight_fraction_leaf=0.0, n_estimators=500, n_jobs=1,\n",
       "           oob_score=False, random_state=42, verbose=0, warm_start=False)"
      ]
     },
     "execution_count": 118,
     "metadata": {},
     "output_type": "execute_result"
    }
   ],
   "source": [
    "X = df_train_2\n",
    "y = df_train[[y_target]]\n",
    "# X_train, X_test, y_train, y_test = train_test_split(X, y, test_size=0.1, random_state=42)\n",
    "X_train, y_train = X, y\n",
    "regr = RandomForestRegressor(random_state=42, max_features=0.6, max_depth=9, n_estimators=500)\n",
    "regr.fit(X_train, y_train)"
   ]
  },
  {
   "cell_type": "code",
   "execution_count": 119,
   "metadata": {},
   "outputs": [
    {
     "name": "stdout",
     "output_type": "stream",
     "text": [
      "0.00777176909669\n"
     ]
    }
   ],
   "source": [
    "y_pred_train = regr.predict(X_train)\n",
    "y_pred = regr.predict(df_test_2)\n",
    "print(mean_squared_error(np.log(y_train), np.log(y_pred_train)))\n",
    "#print(mean_squared_error(np.log(y_test), np.log(y_pred)))"
   ]
  },
  {
   "cell_type": "code",
   "execution_count": null,
   "metadata": {
    "collapsed": true
   },
   "outputs": [],
   "source": []
  },
  {
   "cell_type": "code",
   "execution_count": 120,
   "metadata": {},
   "outputs": [],
   "source": [
    "df_test[y_target] = y_pred\n",
    "df_submission = df_test[[\"Id\", y_target]]"
   ]
  },
  {
   "cell_type": "code",
   "execution_count": 122,
   "metadata": {},
   "outputs": [],
   "source": [
    "df_submission.to_csv(\"submission_RF.csv\", index= False)"
   ]
  },
  {
   "cell_type": "code",
   "execution_count": null,
   "metadata": {
    "collapsed": true
   },
   "outputs": [],
   "source": []
  },
  {
   "cell_type": "code",
   "execution_count": null,
   "metadata": {
    "collapsed": true
   },
   "outputs": [],
   "source": []
  },
  {
   "cell_type": "code",
   "execution_count": 123,
   "metadata": {
    "collapsed": true
   },
   "outputs": [],
   "source": [
    "from sklearn.model_selection import KFold, cross_val_score, train_test_split\n",
    "#Validation function\n",
    "n_folds = 5\n",
    "\n",
    "def rmsle_cv(model):\n",
    "    kf = KFold(n_folds, shuffle=True, random_state=42).get_n_splits(train.values)\n",
    "    rmse= np.sqrt(-cross_val_score(model, train.values, y_train, scoring=\"neg_mean_squared_error\", cv = kf))\n",
    "    return(rmse)"
   ]
  },
  {
   "cell_type": "code",
   "execution_count": null,
   "metadata": {
    "collapsed": true
   },
   "outputs": [],
   "source": []
  }
 ],
 "metadata": {
  "kernelspec": {
   "display_name": "Python 3",
   "language": "python",
   "name": "python3"
  },
  "language_info": {
   "codemirror_mode": {
    "name": "ipython",
    "version": 3
   },
   "file_extension": ".py",
   "mimetype": "text/x-python",
   "name": "python",
   "nbconvert_exporter": "python",
   "pygments_lexer": "ipython3",
   "version": "3.6.3"
  }
 },
 "nbformat": 4,
 "nbformat_minor": 2
}
